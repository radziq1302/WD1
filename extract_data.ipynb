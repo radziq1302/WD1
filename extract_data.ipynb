{
 "cells": [
  {
   "cell_type": "code",
   "execution_count": null,
   "metadata": {},
   "outputs": [],
   "source": [
    "import pandas as pd\n",
    "\n",
    "import datetime\n",
    "import json\n",
    "import os\n",
    "import re\n",
    "\n",
    "from tqdm import tqdm_notebook as tqdm\n",
    "from functools import partial\n",
    "from pprint import pprint"
   ]
  },
  {
   "cell_type": "code",
   "execution_count": null,
   "metadata": {},
   "outputs": [],
   "source": [
    "def load_messages(path, fix_mojibake_escapes, from_time=None):\n",
    "    with open(path,'rb') as bdata:\n",
    "        data = fix_mojibake_escapes(bdata.read())\n",
    "        data = json.loads(data, encoding='utf8', strict=False)\n",
    "        conversation_dict = {'sender_name': [], 'time': [], 'content': []} \n",
    "        \n",
    "        for msg in data['messages']:\n",
    "            try:\n",
    "                message_date = datetime.datetime.utcfromtimestamp(int(msg['timestamp_ms']/1000))\n",
    "                if from_time and message_date < from_time:  # older than specified\n",
    "                    break\n",
    "                    \n",
    "                sender_name = msg['sender_name']\n",
    "                content = msg['content']\n",
    "            except KeyError:\n",
    "                continue\n",
    "                \n",
    "            conversation_dict['time'].append(message_date.strftime('%Y-%m-%d %H:%M:%S'))\n",
    "            conversation_dict['sender_name'].append(sender_name)\n",
    "            conversation_dict['content'].append(content)\n",
    "        return pd.DataFrame.from_dict(conversation_dict)\n",
    "\n",
    "\n",
    "def load(inbox_path, from_time=None):\n",
    "    conversations = []\n",
    "    for filename in tqdm(os.listdir(inbox_path)):\n",
    "        # filename = os.fsdecode(filename)\n",
    "        full_path = os.path.join(inbox_path, filename, 'message.json')\n",
    "        if not os.path.exists(full_path):\n",
    "            continue\n",
    "        \n",
    "        fix_mojibake_escapes = partial(\n",
    "            re.compile(rb'\\\\u00([\\da-f]{2})').sub,\n",
    "            lambda m: bytes.fromhex(m.group(1).decode()))\n",
    "        \n",
    "        conversation = load_messages(full_path, fix_mojibake_escapes, from_time)\n",
    "        conversations.append(conversation)\n",
    "    \n",
    "    return pd.concat(conversations, ignore_index=True)"
   ]
  },
  {
   "cell_type": "code",
   "execution_count": null,
   "metadata": {},
   "outputs": [],
   "source": [
    "# fromt = '2019-03-10 18:42:00'\n",
    "# fromt = datetime.datetime.strptime(fromt, '%Y-%m-%d %H:%M:%S')\n",
    "# df = load('./messages/inbox', fromt)\n",
    "\n",
    "df = load('./messages/inbox')"
   ]
  },
  {
   "cell_type": "code",
   "execution_count": null,
   "metadata": {},
   "outputs": [],
   "source": [
    "len(df)"
   ]
  },
  {
   "cell_type": "code",
   "execution_count": null,
   "metadata": {},
   "outputs": [],
   "source": [
    "df.head()"
   ]
  },
  {
   "cell_type": "code",
   "execution_count": null,
   "metadata": {},
   "outputs": [],
   "source": [
    "df['sender_name'].unique()"
   ]
  },
  {
   "cell_type": "code",
   "execution_count": null,
   "metadata": {},
   "outputs": [],
   "source": [
    "df.to_csv('messages.csv', index=False)"
   ]
  },
  {
   "cell_type": "code",
   "execution_count": null,
   "metadata": {},
   "outputs": [],
   "source": []
  }
 ],
 "metadata": {
  "kernelspec": {
   "display_name": "Python 3",
   "language": "python",
   "name": "python3"
  },
  "language_info": {
   "codemirror_mode": {
    "name": "ipython",
    "version": 3
   },
   "file_extension": ".py",
   "mimetype": "text/x-python",
   "name": "python",
   "nbconvert_exporter": "python",
   "pygments_lexer": "ipython3",
   "version": "3.7.2"
  }
 },
 "nbformat": 4,
 "nbformat_minor": 2
}
