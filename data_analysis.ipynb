{
 "cells": [
  {
   "cell_type": "code",
   "execution_count": 62,
   "metadata": {},
   "outputs": [],
   "source": [
    "import numpy as np\n",
    "import pandas as pd"
   ]
  },
  {
   "cell_type": "code",
   "execution_count": 145,
   "metadata": {},
   "outputs": [
    {
     "data": {
      "text/html": [
       "<div>\n",
       "<style scoped>\n",
       "    .dataframe tbody tr th:only-of-type {\n",
       "        vertical-align: middle;\n",
       "    }\n",
       "\n",
       "    .dataframe tbody tr th {\n",
       "        vertical-align: top;\n",
       "    }\n",
       "\n",
       "    .dataframe thead th {\n",
       "        text-align: right;\n",
       "    }\n",
       "</style>\n",
       "<table border=\"1\" class=\"dataframe\">\n",
       "  <thead>\n",
       "    <tr style=\"text-align: right;\">\n",
       "      <th></th>\n",
       "      <th>sender_name</th>\n",
       "      <th>time</th>\n",
       "      <th>content</th>\n",
       "    </tr>\n",
       "  </thead>\n",
       "  <tbody>\n",
       "    <tr>\n",
       "      <th>0</th>\n",
       "      <td>Rafał Kulawiak</td>\n",
       "      <td>2012-03-05 14:21:34</td>\n",
       "      <td>będe chyba musiał sformatować komputer</td>\n",
       "    </tr>\n",
       "    <tr>\n",
       "      <th>1</th>\n",
       "      <td>Rafał Kulawiak</td>\n",
       "      <td>2012-03-05 14:20:54</td>\n",
       "      <td>nie ściągaj tego</td>\n",
       "    </tr>\n",
       "    <tr>\n",
       "      <th>2</th>\n",
       "      <td>Rafał Kulawiak</td>\n",
       "      <td>2012-03-05 14:20:52</td>\n",
       "      <td>sorry samo sie wysłało</td>\n",
       "    </tr>\n",
       "    <tr>\n",
       "      <th>3</th>\n",
       "      <td>Klaudia Sałamacha</td>\n",
       "      <td>2012-03-05 14:20:28</td>\n",
       "      <td>hei . Co to ?;]</td>\n",
       "    </tr>\n",
       "    <tr>\n",
       "      <th>4</th>\n",
       "      <td>Bartek Paszko</td>\n",
       "      <td>2013-10-22 18:48:40</td>\n",
       "      <td>ok narazie ;D</td>\n",
       "    </tr>\n",
       "  </tbody>\n",
       "</table>\n",
       "</div>"
      ],
      "text/plain": [
       "         sender_name                time  \\\n",
       "0     Rafał Kulawiak 2012-03-05 14:21:34   \n",
       "1     Rafał Kulawiak 2012-03-05 14:20:54   \n",
       "2     Rafał Kulawiak 2012-03-05 14:20:52   \n",
       "3  Klaudia Sałamacha 2012-03-05 14:20:28   \n",
       "4      Bartek Paszko 2013-10-22 18:48:40   \n",
       "\n",
       "                                  content  \n",
       "0  będe chyba musiał sformatować komputer  \n",
       "1                        nie ściągaj tego  \n",
       "2                  sorry samo sie wysłało  \n",
       "3                         hei . Co to ?;]  \n",
       "4                           ok narazie ;D  "
      ]
     },
     "execution_count": 145,
     "metadata": {},
     "output_type": "execute_result"
    }
   ],
   "source": [
    "df = pd.read_csv('messages.csv').dropna()\n",
    "df['time'] = df[\"time\"].astype(\"datetime64\")\n",
    "df.head()"
   ]
  },
  {
   "cell_type": "code",
   "execution_count": 146,
   "metadata": {},
   "outputs": [
    {
     "data": {
      "text/plain": [
       "72346"
      ]
     },
     "execution_count": 146,
     "metadata": {},
     "output_type": "execute_result"
    }
   ],
   "source": [
    "df = df[df['time'] > '2018-01-01']\n",
    "my_df = df[df['sender_name'] == 'Bartek Paszko']\n",
    "len(my_df)"
   ]
  },
  {
   "cell_type": "code",
   "execution_count": 147,
   "metadata": {},
   "outputs": [
    {
     "data": {
      "text/html": [
       "<div>\n",
       "<style scoped>\n",
       "    .dataframe tbody tr th:only-of-type {\n",
       "        vertical-align: middle;\n",
       "    }\n",
       "\n",
       "    .dataframe tbody tr th {\n",
       "        vertical-align: top;\n",
       "    }\n",
       "\n",
       "    .dataframe thead th {\n",
       "        text-align: right;\n",
       "    }\n",
       "</style>\n",
       "<table border=\"1\" class=\"dataframe\">\n",
       "  <thead>\n",
       "    <tr style=\"text-align: right;\">\n",
       "      <th></th>\n",
       "      <th>sender_name</th>\n",
       "      <th>time</th>\n",
       "      <th>content</th>\n",
       "    </tr>\n",
       "  </thead>\n",
       "  <tbody>\n",
       "    <tr>\n",
       "      <th>359</th>\n",
       "      <td>Bartek Paszko</td>\n",
       "      <td>2019-03-09 18:07:16</td>\n",
       "      <td>o której mniej więcej?</td>\n",
       "    </tr>\n",
       "    <tr>\n",
       "      <th>360</th>\n",
       "      <td>Bartek Paszko</td>\n",
       "      <td>2019-03-09 18:07:09</td>\n",
       "      <td>ok, thx za info</td>\n",
       "    </tr>\n",
       "    <tr>\n",
       "      <th>362</th>\n",
       "      <td>Bartek Paszko</td>\n",
       "      <td>2019-03-04 21:16:33</td>\n",
       "      <td>Jest awizo</td>\n",
       "    </tr>\n",
       "    <tr>\n",
       "      <th>363</th>\n",
       "      <td>Bartek Paszko</td>\n",
       "      <td>2019-03-02 22:59:40</td>\n",
       "      <td>a dzisiaj rano ostatni raz sprawdzałem i nie b...</td>\n",
       "    </tr>\n",
       "    <tr>\n",
       "      <th>364</th>\n",
       "      <td>Bartek Paszko</td>\n",
       "      <td>2019-03-02 22:59:17</td>\n",
       "      <td>jakiś czas temu przyszedł, ale to Darek wrócił...</td>\n",
       "    </tr>\n",
       "  </tbody>\n",
       "</table>\n",
       "</div>"
      ],
      "text/plain": [
       "       sender_name                time  \\\n",
       "359  Bartek Paszko 2019-03-09 18:07:16   \n",
       "360  Bartek Paszko 2019-03-09 18:07:09   \n",
       "362  Bartek Paszko 2019-03-04 21:16:33   \n",
       "363  Bartek Paszko 2019-03-02 22:59:40   \n",
       "364  Bartek Paszko 2019-03-02 22:59:17   \n",
       "\n",
       "                                               content  \n",
       "359                             o której mniej więcej?  \n",
       "360                                    ok, thx za info  \n",
       "362                                         Jest awizo  \n",
       "363  a dzisiaj rano ostatni raz sprawdzałem i nie b...  \n",
       "364  jakiś czas temu przyszedł, ale to Darek wrócił...  "
      ]
     },
     "execution_count": 147,
     "metadata": {},
     "output_type": "execute_result"
    }
   ],
   "source": [
    "my_df.head()"
   ]
  },
  {
   "cell_type": "code",
   "execution_count": 148,
   "metadata": {},
   "outputs": [],
   "source": [
    "def analyse_xd(df):\n",
    "    pattern = r'([xX]+[dD]+)'\n",
    "    content = df['content']\n",
    "    xds = df['content'].str.extractall(pattern)# .unstack() #.apply(','.join, 1)\n",
    "    xds = xds.reset_index(drop=True)[0]\n",
    "    return xds.value_counts(), xds.apply(lambda x: len(x)).mean()"
   ]
  },
  {
   "cell_type": "code",
   "execution_count": 178,
   "metadata": {},
   "outputs": [],
   "source": [
    "from collections import Counter\n",
    "\n",
    "def most_common_words(df, n=-1):\n",
    "    c = Counter()\n",
    "    \n",
    "    def update_counter(msg):\n",
    "        msg = msg.lower().translate(str.maketrans('', '' , ',.\"\\'?!')).split(' ')\n",
    "        c.update(msg)\n",
    "        \n",
    "    df['content'].apply(update_counter)\n",
    "    return c if n == -1 else c.most_common(n)\n",
    "    "
   ]
  },
  {
   "cell_type": "code",
   "execution_count": 150,
   "metadata": {},
   "outputs": [],
   "source": [
    "def average_msg_len(df):\n",
    "    lengths = df['content'].apply(lambda x: len(x))\n",
    "    return lengths"
   ]
  },
  {
   "cell_type": "code",
   "execution_count": 165,
   "metadata": {},
   "outputs": [],
   "source": [
    "def msg_per_hour(df):\n",
    "    return df['time'].groupby(df[\"time\"].dt.hour).count()"
   ]
  },
  {
   "cell_type": "code",
   "execution_count": 188,
   "metadata": {},
   "outputs": [],
   "source": [
    "def swear_percent(df, swear_list):\n",
    "    c = most_common_words(df)\n",
    "    swears, total = 0, sum(c.values())\n",
    "    for swear in swear_list:\n",
    "        if swear in c:\n",
    "            swears += c[swear]\n",
    "    return swears / total"
   ]
  },
  {
   "cell_type": "code",
   "execution_count": 189,
   "metadata": {},
   "outputs": [
    {
     "data": {
      "text/plain": [
       "0.012488972904851922"
      ]
     },
     "execution_count": 189,
     "metadata": {},
     "output_type": "execute_result"
    }
   ],
   "source": [
    "with open('wulgaryzmy.txt') as f:\n",
    "    swear_list = f.read().split(' ')\n",
    "\n",
    "swear_percent(my_df, swear_list)"
   ]
  },
  {
   "cell_type": "code",
   "execution_count": 168,
   "metadata": {},
   "outputs": [
    {
     "data": {
      "text/plain": [
       "<matplotlib.axes._subplots.AxesSubplot at 0x7fb71ce78d68>"
      ]
     },
     "execution_count": 168,
     "metadata": {},
     "output_type": "execute_result"
    },
    {
     "data": {
      "image/png": "[encoded data removed]",
      "text/plain": [
       "<Figure size 432x288 with 1 Axes>"
      ]
     },
     "metadata": {
      "needs_background": "light"
     },
     "output_type": "display_data"
    }
   ],
   "source": [
    "hist_hour = msg_per_hour(my_df)\n",
    "hist_hour.plot()"
   ]
  },
  {
   "cell_type": "code",
   "execution_count": null,
   "metadata": {},
   "outputs": [],
   "source": []
  }
 ],
 "metadata": {
  "kernelspec": {
   "display_name": "Python 3",
   "language": "python",
   "name": "python3"
  },
  "language_info": {
   "codemirror_mode": {
    "name": "ipython",
    "version": 3
   },
   "file_extension": ".py",
   "mimetype": "text/x-python",
   "name": "python",
   "nbconvert_exporter": "python",
   "pygments_lexer": "ipython3",
   "version": "3.7.2"
  }
 },
 "nbformat": 4,
 "nbformat_minor": 2
}
