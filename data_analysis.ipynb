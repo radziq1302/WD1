{
 "cells": [
  {
   "cell_type": "code",
   "execution_count": 23,
   "metadata": {},
   "outputs": [],
   "source": [
    "%matplotlib inline"
   ]
  },
  {
   "cell_type": "code",
   "execution_count": 2,
   "metadata": {},
   "outputs": [],
   "source": [
    "import itertools\n",
    "\n",
    "import numpy as np\n",
    "import pandas as pd\n",
    "from tqdm import tqdm_notebook as tqdm\n",
    "\n",
    "from nltk.corpus import stopwords"
   ]
  },
  {
   "cell_type": "code",
   "execution_count": 3,
   "metadata": {},
   "outputs": [
    {
     "name": "stderr",
     "output_type": "stream",
     "text": [
      "[nltk_data] Downloading package stopwords to\n",
      "[nltk_data]     C:\\Users\\Mateusz\\AppData\\Roaming\\nltk_data...\n",
      "[nltk_data]   Unzipping corpora\\stopwords.zip.\n"
     ]
    },
    {
     "data": {
      "text/plain": [
       "True"
      ]
     },
     "execution_count": 3,
     "metadata": {},
     "output_type": "execute_result"
    }
   ],
   "source": [
    "import nltk\n",
    "nltk.download('stopwords')"
   ]
  },
  {
   "cell_type": "code",
   "execution_count": 30,
   "metadata": {},
   "outputs": [
    {
     "data": {
      "text/html": [
       "<div>\n",
       "<style scoped>\n",
       "    .dataframe tbody tr th:only-of-type {\n",
       "        vertical-align: middle;\n",
       "    }\n",
       "\n",
       "    .dataframe tbody tr th {\n",
       "        vertical-align: top;\n",
       "    }\n",
       "\n",
       "    .dataframe thead th {\n",
       "        text-align: right;\n",
       "    }\n",
       "</style>\n",
       "<table border=\"1\" class=\"dataframe\">\n",
       "  <thead>\n",
       "    <tr style=\"text-align: right;\">\n",
       "      <th></th>\n",
       "      <th>sender_name</th>\n",
       "      <th>time</th>\n",
       "      <th>content</th>\n",
       "    </tr>\n",
       "  </thead>\n",
       "  <tbody>\n",
       "    <tr>\n",
       "      <th>0</th>\n",
       "      <td>Marcin Zimmer</td>\n",
       "      <td>2018-07-19 10:21:18</td>\n",
       "      <td>Marcin: 󰀀</td>\n",
       "    </tr>\n",
       "    <tr>\n",
       "      <th>1</th>\n",
       "      <td>Bartosz Jakubowski</td>\n",
       "      <td>2018-07-19 10:12:26</td>\n",
       "      <td>Obsługa muzyczna wydarzenia.</td>\n",
       "    </tr>\n",
       "    <tr>\n",
       "      <th>2</th>\n",
       "      <td>Marcin Zimmer</td>\n",
       "      <td>2018-07-19 10:04:48</td>\n",
       "      <td>Jak chcesz ja miec zatytulowana?</td>\n",
       "    </tr>\n",
       "    <tr>\n",
       "      <th>3</th>\n",
       "      <td>Kamila Bilicka</td>\n",
       "      <td>2018-07-19 09:39:04</td>\n",
       "      <td>Kamila: 󰀀</td>\n",
       "    </tr>\n",
       "    <tr>\n",
       "      <th>4</th>\n",
       "      <td>Bartosz Jakubowski</td>\n",
       "      <td>2018-07-19 09:33:01</td>\n",
       "      <td>Marcin/Kama wystawcie mi prosze fakture na: Gr...</td>\n",
       "    </tr>\n",
       "  </tbody>\n",
       "</table>\n",
       "</div>"
      ],
      "text/plain": [
       "          sender_name                time  \\\n",
       "0       Marcin Zimmer 2018-07-19 10:21:18   \n",
       "1  Bartosz Jakubowski 2018-07-19 10:12:26   \n",
       "2       Marcin Zimmer 2018-07-19 10:04:48   \n",
       "3      Kamila Bilicka 2018-07-19 09:39:04   \n",
       "4  Bartosz Jakubowski 2018-07-19 09:33:01   \n",
       "\n",
       "                                             content  \n",
       "0                                          Marcin: 󰀀  \n",
       "1                       Obsługa muzyczna wydarzenia.  \n",
       "2                   Jak chcesz ja miec zatytulowana?  \n",
       "3                                          Kamila: 󰀀  \n",
       "4  Marcin/Kama wystawcie mi prosze fakture na: Gr...  "
      ]
     },
     "execution_count": 30,
     "metadata": {},
     "output_type": "execute_result"
    }
   ],
   "source": [
    "df = pd.read_csv('.\\messages.csv').dropna()\n",
    "df['time'] = df[\"time\"].astype(\"datetime64\")\n",
    "df.head()"
   ]
  },
  {
   "cell_type": "code",
   "execution_count": 99,
   "metadata": {},
   "outputs": [
    {
     "data": {
      "text/plain": [
       "71599"
      ]
     },
     "execution_count": 99,
     "metadata": {},
     "output_type": "execute_result"
    }
   ],
   "source": [
    "# df = df[df['time'] > '2018-01-01']\n",
    "my_name = 'Mateusz Dorobek'\n",
    "my_df = df[df['sender_name'] == my_name]\n",
    "len(my_df)"
   ]
  },
  {
   "cell_type": "code",
   "execution_count": 15,
   "metadata": {},
   "outputs": [
    {
     "data": {
      "text/html": [
       "<div>\n",
       "<style scoped>\n",
       "    .dataframe tbody tr th:only-of-type {\n",
       "        vertical-align: middle;\n",
       "    }\n",
       "\n",
       "    .dataframe tbody tr th {\n",
       "        vertical-align: top;\n",
       "    }\n",
       "\n",
       "    .dataframe thead th {\n",
       "        text-align: right;\n",
       "    }\n",
       "</style>\n",
       "<table border=\"1\" class=\"dataframe\">\n",
       "  <thead>\n",
       "    <tr style=\"text-align: right;\">\n",
       "      <th></th>\n",
       "      <th>sender_name</th>\n",
       "      <th>time</th>\n",
       "      <th>content</th>\n",
       "    </tr>\n",
       "  </thead>\n",
       "  <tbody>\n",
       "    <tr>\n",
       "      <th>5</th>\n",
       "      <td>Mateusz Dorobek</td>\n",
       "      <td>2018-07-19 09:28:47</td>\n",
       "      <td>Ja nie mam</td>\n",
       "    </tr>\n",
       "    <tr>\n",
       "      <th>31</th>\n",
       "      <td>Mateusz Dorobek</td>\n",
       "      <td>2018-07-14 17:19:53</td>\n",
       "      <td>G. G. G. Amol A A</td>\n",
       "    </tr>\n",
       "    <tr>\n",
       "      <th>99</th>\n",
       "      <td>Mateusz Dorobek</td>\n",
       "      <td>2017-07-14 22:20:19</td>\n",
       "      <td>Trzeba się przejść na jam session kiedyś</td>\n",
       "    </tr>\n",
       "    <tr>\n",
       "      <th>100</th>\n",
       "      <td>Mateusz Dorobek</td>\n",
       "      <td>2017-07-14 22:20:04</td>\n",
       "      <td>Fajnie</td>\n",
       "    </tr>\n",
       "    <tr>\n",
       "      <th>101</th>\n",
       "      <td>Mateusz Dorobek</td>\n",
       "      <td>2017-07-10 17:35:43</td>\n",
       "      <td>dobra ziom lece na próbę jak coś to dzwoń</td>\n",
       "    </tr>\n",
       "  </tbody>\n",
       "</table>\n",
       "</div>"
      ],
      "text/plain": [
       "         sender_name                time  \\\n",
       "5    Mateusz Dorobek 2018-07-19 09:28:47   \n",
       "31   Mateusz Dorobek 2018-07-14 17:19:53   \n",
       "99   Mateusz Dorobek 2017-07-14 22:20:19   \n",
       "100  Mateusz Dorobek 2017-07-14 22:20:04   \n",
       "101  Mateusz Dorobek 2017-07-10 17:35:43   \n",
       "\n",
       "                                       content  \n",
       "5                                   Ja nie mam  \n",
       "31                           G. G. G. Amol A A  \n",
       "99    Trzeba się przejść na jam session kiedyś  \n",
       "100                                     Fajnie  \n",
       "101  dobra ziom lece na próbę jak coś to dzwoń  "
      ]
     },
     "execution_count": 15,
     "metadata": {},
     "output_type": "execute_result"
    }
   ],
   "source": [
    "my_df.head()"
   ]
  },
  {
   "cell_type": "code",
   "execution_count": 16,
   "metadata": {},
   "outputs": [],
   "source": [
    "def analyse_xd(df):\n",
    "    pattern = r'([xX]+[dD]+)'\n",
    "    content = df['content']\n",
    "    xds = df['content'].str.extractall(pattern)# .unstack() #.apply(','.join, 1)\n",
    "    xds = xds.reset_index(drop=True)[0]\n",
    "    return xds.value_counts(), xds.apply(lambda x: len(x)).mean()\n",
    "\n",
    "\n",
    "def analyse_xd_via_time(df):\n",
    "    df = df.copy()\n",
    "    pattern = r'([xX]+[dD]+)'\n",
    "    content = df['content']\n",
    "    xds = df['content'].str.extractall(pattern)# .unstack() #.apply(','.join, 1)\n",
    "    \n",
    "    l = []\n",
    "    indices = [i[0] for i in xds.index.values]\n",
    "    for i, _ in tqdm(df.iterrows(), total=len(df)):\n",
    "        if i in indices:\n",
    "            l.append(1)\n",
    "        else:\n",
    "            l.append(0)\n",
    "            \n",
    "    df['xd'] = l\n",
    "    df = df[['time', 'xd']]\n",
    "    return df.groupby(df[\"time\"].dt.hour).sum()"
   ]
  },
  {
   "cell_type": "code",
   "execution_count": 17,
   "metadata": {},
   "outputs": [],
   "source": [
    "from collections import Counter\n",
    "\n",
    "def most_common_words(df, n=-1):\n",
    "    to_delete = ['wysłałeś', 'zdjęcie', '']\n",
    "    stop = stopwords.words('polish')\n",
    "    c = Counter()\n",
    "    \n",
    "    def update_counter(msg):\n",
    "        msg = msg.lower().translate(str.maketrans('', '' , ',.\"\\'?!')).split(' ')\n",
    "        c.update(msg)\n",
    "        \n",
    "    df['content'].apply(update_counter)\n",
    "    \n",
    "    for drop_w in itertools.chain(stop, to_delete):\n",
    "            c.pop(drop_w, None)\n",
    "    \n",
    "    for k in list(c.keys()):\n",
    "            if k.isnumeric():\n",
    "                c.pop(k, None)\n",
    "    \n",
    "    return c if n == -1 else c.most_common(n)\n",
    "    "
   ]
  },
  {
   "cell_type": "code",
   "execution_count": 18,
   "metadata": {},
   "outputs": [],
   "source": [
    "def average_msg_len(df):\n",
    "    lengths = df['content'].apply(lambda x: len(x))\n",
    "    return lengths"
   ]
  },
  {
   "cell_type": "code",
   "execution_count": 19,
   "metadata": {},
   "outputs": [],
   "source": [
    "def msg_per_hour(df):\n",
    "    return df['time'].groupby(df[\"time\"].dt.hour).count()\n",
    "\n",
    "def msg_per_day(df):\n",
    "    mapping = {\n",
    "        0: 'Monday',\n",
    "        1: 'Tuesday',\n",
    "        2: 'Wednesday',\n",
    "        3: 'Thursday',\n",
    "        4: 'Friday',\n",
    "        5: 'Saturday',\n",
    "        6: 'Sunday'\n",
    "    }\n",
    "    weekdays = df['time'].apply(lambda x: mapping[x.weekday()])\n",
    "    return weekdays.value_counts()"
   ]
  },
  {
   "cell_type": "code",
   "execution_count": 20,
   "metadata": {},
   "outputs": [],
   "source": [
    "def swear_percent(df, swear_list):\n",
    "    emotes = ['xd', 'xdd', 'xddd', ':)', ':(', ':c', '<3', ';)', ';(', ';c', ';*', ':*', '^^', ';>', ':>', \n",
    "              ';<', ':<', ':d', ';d', ':p', ';p', ';]', ':]', ';[', ':[', '-.-' '^.^', '*.*',\n",
    "              ':\\\\', ';\\\\', ':/', ';/', ':-)', ';-)', ':-/', ';-/']\n",
    "    \n",
    "    c = most_common_words(df)\n",
    "    for emote in emotes:\n",
    "        c.pop(emote, None)\n",
    "              \n",
    "    swears, total = 0, sum(c.values())\n",
    "    for swear in swear_list:\n",
    "        if swear in c:\n",
    "            swears += c[swear]\n",
    "    return swears / total"
   ]
  },
  {
   "cell_type": "code",
   "execution_count": 21,
   "metadata": {},
   "outputs": [
    {
     "data": {
      "text/plain": [
       "0.0053440309810011315"
      ]
     },
     "execution_count": 21,
     "metadata": {},
     "output_type": "execute_result"
    }
   ],
   "source": [
    "with open('wulgaryzmy.txt') as f:\n",
    "    swear_list = f.read().split(' ')\n",
    "\n",
    "swear_percent(my_df, swear_list)"
   ]
  },
  {
   "cell_type": "markdown",
   "metadata": {},
   "source": [
    "#### Rozkład wysyłanych wiadomości godzinowo"
   ]
  },
  {
   "cell_type": "code",
   "execution_count": 24,
   "metadata": {},
   "outputs": [
    {
     "data": {
      "text/plain": [
       "<matplotlib.axes._subplots.AxesSubplot at 0x1ebc3743da0>"
      ]
     },
     "execution_count": 24,
     "metadata": {},
     "output_type": "execute_result"
    },
    {
     "data": {
      "image/png": "[encoded data removed]",
      "text/plain": [
       "<Figure size 432x288 with 1 Axes>"
      ]
     },
     "metadata": {
      "needs_background": "light"
     },
     "output_type": "display_data"
    }
   ],
   "source": [
    "hist_hour = msg_per_hour(my_df)\n",
    "hist_hour.plot()"
   ]
  },
  {
   "cell_type": "markdown",
   "metadata": {},
   "source": [
    "#### Rozkład wysyłanych wiadomości dziennie"
   ]
  },
  {
   "cell_type": "code",
   "execution_count": 25,
   "metadata": {},
   "outputs": [
    {
     "name": "stdout",
     "output_type": "stream",
     "text": [
      "<class 'pandas.core.series.Series'>\n"
     ]
    },
    {
     "data": {
      "text/plain": [
       "<matplotlib.axes._subplots.AxesSubplot at 0x1ebc50a3cc0>"
      ]
     },
     "execution_count": 25,
     "metadata": {},
     "output_type": "execute_result"
    },
    {
     "data": {
      "image/png": "[encoded data removed]",
      "text/plain": [
       "<Figure size 432x288 with 1 Axes>"
      ]
     },
     "metadata": {
      "needs_background": "light"
     },
     "output_type": "display_data"
    }
   ],
   "source": [
    "weekdays = msg_per_day(my_df)\n",
    "print(weekdays.__class__)\n",
    "weekdays.plot(kind='bar')"
   ]
  },
  {
   "cell_type": "markdown",
   "metadata": {},
   "source": [
    "#### Najczęstsze rodzaje wysyłanego xD"
   ]
  },
  {
   "cell_type": "code",
   "execution_count": 26,
   "metadata": {},
   "outputs": [
    {
     "data": {
      "text/plain": [
       "<matplotlib.axes._subplots.AxesSubplot at 0x1ebc5834860>"
      ]
     },
     "execution_count": 26,
     "metadata": {},
     "output_type": "execute_result"
    },
    {
     "data": {
      "image/png": "[encoded data removed]",
      "text/plain": [
       "<Figure size 432x288 with 1 Axes>"
      ]
     },
     "metadata": {
      "needs_background": "light"
     },
     "output_type": "display_data"
    }
   ],
   "source": [
    "xds_counts, mean_xd_len = analyse_xd(my_df)\n",
    "xds_counts[:5].plot(kind='bar')"
   ]
  },
  {
   "cell_type": "markdown",
   "metadata": {},
   "source": [
    "#### ilość XD per godzina"
   ]
  },
  {
   "cell_type": "code",
   "execution_count": 27,
   "metadata": {},
   "outputs": [
    {
     "data": {
      "application/vnd.jupyter.widget-view+json": {
       "model_id": "4aa213833a024276aa9812da6ae1c6e7",
       "version_major": 2,
       "version_minor": 0
      },
      "text/plain": [
       "HBox(children=(IntProgress(value=0, max=71599), HTML(value='')))"
      ]
     },
     "metadata": {},
     "output_type": "display_data"
    },
    {
     "name": "stdout",
     "output_type": "stream",
     "text": [
      "\n"
     ]
    },
    {
     "data": {
      "text/plain": [
       "<matplotlib.axes._subplots.AxesSubplot at 0x1ebc588a9b0>"
      ]
     },
     "execution_count": 27,
     "metadata": {},
     "output_type": "execute_result"
    },
    {
     "data": {
      "image/png": "[encoded data removed]",
      "text/plain": [
       "<Figure size 432x288 with 1 Axes>"
      ]
     },
     "metadata": {
      "needs_background": "light"
     },
     "output_type": "display_data"
    }
   ],
   "source": [
    "xd_time = analyse_xd_via_time(my_df)\n",
    "xd_time.plot()"
   ]
  },
  {
   "cell_type": "markdown",
   "metadata": {},
   "source": [
    "#### Najczęściej występujące słowa"
   ]
  },
  {
   "cell_type": "code",
   "execution_count": 28,
   "metadata": {},
   "outputs": [
    {
     "name": "stdout",
     "output_type": "stream",
     "text": [
      "xd\t\t2568\n",
      "dobra\t\t1917\n",
      "wiem\t\t1440\n",
      "spoko\t\t1437\n",
      "hej\t\t1264\n",
      "masz\t\t1075\n",
      "ok\t\t1038\n",
      "jutro\t\t867\n",
      "chyba\t\t747\n",
      "jakieś\t\t676\n",
      "pewnie\t\t596\n",
      "mogę\t\t556\n",
      "dzięki\t\t539\n",
      "ty:\t\t524\n",
      "󰀀\t\t524\n",
      "bym\t\t518\n",
      "=\t\t487\n",
      "trochę\t\t477\n",
      "chcesz\t\t456\n",
      "zrobić\t\t423\n",
      "możesz\t\t414\n",
      "załącznik\t\t397\n",
      "-\t\t395\n",
      "daj\t\t394\n",
      "wiesz\t\t387\n",
      "później\t\t380\n",
      "link\t\t368\n",
      "nom\t\t355\n",
      "siema\t\t355\n",
      "fajnie\t\t354\n",
      "chce\t\t354\n",
      "wogóle\t\t346\n",
      "miał\t\t335\n",
      "kurwa\t\t332\n",
      "wysłałeś(aś)\t\t332\n",
      "narazie\t\t319\n",
      "grać\t\t316\n",
      ";p\t\t305\n",
      "mamy\t\t300\n",
      "<a\t\t294\n",
      "napisz\t\t291\n",
      "lepiej\t\t286\n",
      "zaraz\t\t283\n",
      ";)\t\t280\n",
      "stary\t\t274\n",
      "ogarnąć\t\t270\n",
      "raczej\t\t266\n",
      "elo\t\t260\n",
      "robić\t\t258\n",
      "dzieki\t\t254\n"
     ]
    }
   ],
   "source": [
    "mcw = most_common_words(my_df, n=50)\n",
    "for w, c in mcw:\n",
    "    print(f'{w}\\t\\t{c}')"
   ]
  },
  {
   "cell_type": "markdown",
   "metadata": {},
   "source": [
    "#### Średnia długość wiadomości (w znakach) - wyrzucone outliery"
   ]
  },
  {
   "cell_type": "code",
   "execution_count": 42,
   "metadata": {},
   "outputs": [
    {
     "data": {
      "text/plain": [
       "<matplotlib.axes._subplots.AxesSubplot at 0x1ebc55df780>"
      ]
     },
     "execution_count": 42,
     "metadata": {},
     "output_type": "execute_result"
    },
    {
     "data": {
      "image/png": "[encoded data removed]",
      "text/plain": [
       "<Figure size 432x288 with 1 Axes>"
      ]
     },
     "metadata": {
      "needs_background": "light"
     },
     "output_type": "display_data"
    }
   ],
   "source": [
    "lengths = average_msg_len(my_df)\n",
    "lengths[~((lengths-lengths.mean()).abs() > 3*lengths.std())].hist(bins=20)"
   ]
  },
  {
   "cell_type": "markdown",
   "metadata": {},
   "source": [
    "**Ekstrakcja Danych do CSV-ek**"
   ]
  },
  {
   "cell_type": "code",
   "execution_count": 103,
   "metadata": {},
   "outputs": [
    {
     "name": "stderr",
     "output_type": "stream",
     "text": [
      "E:\\Users\\Mateusz\\Anaconda3\\lib\\site-packages\\ipykernel_launcher.py:3: FutureWarning: set_value is deprecated and will be removed in a future release. Please use .at[] or .iat[] accessors instead\n",
      "  This is separate from the ipykernel package so we can avoid doing imports until\n"
     ]
    }
   ],
   "source": [
    "fav_words = pd.Series()\n",
    "for w, c in mcw:\n",
    "    fav_words = fav_words.set_value(w,c)"
   ]
  },
  {
   "cell_type": "code",
   "execution_count": 105,
   "metadata": {},
   "outputs": [],
   "source": [
    "lengths[~((lengths-lengths.mean()).abs() > 0.3*lengths.std())].to_csv('extracted_data/lengths.csv', index=True)\n",
    "fav_words.to_csv('extracted_data/fav_words.csv', index=True)\n",
    "xds_counts.to_csv('extracted_data/xds_counts.csv', index=True)\n",
    "weekdays.to_csv('extracted_data/weekdays.csv', index=True)\n",
    "hist_hour.to_csv('extracted_data/hist_hour.csv', index=False)\n",
    "xd_time.to_csv('extracted_data/xd_time.csv', index=False)"
   ]
  },
  {
   "cell_type": "code",
   "execution_count": 106,
   "metadata": {},
   "outputs": [
    {
     "name": "stderr",
     "output_type": "stream",
     "text": [
      "E:\\Users\\Mateusz\\Anaconda3\\lib\\site-packages\\ipykernel_launcher.py:2: FutureWarning: set_value is deprecated and will be removed in a future release. Please use .at[] or .iat[] accessors instead\n",
      "  \n",
      "E:\\Users\\Mateusz\\Anaconda3\\lib\\site-packages\\ipykernel_launcher.py:3: FutureWarning: set_value is deprecated and will be removed in a future release. Please use .at[] or .iat[] accessors instead\n",
      "  This is separate from the ipykernel package so we can avoid doing imports until\n",
      "E:\\Users\\Mateusz\\Anaconda3\\lib\\site-packages\\ipykernel_launcher.py:4: FutureWarning: set_value is deprecated and will be removed in a future release. Please use .at[] or .iat[] accessors instead\n",
      "  after removing the cwd from sys.path.\n"
     ]
    },
    {
     "name": "stdout",
     "output_type": "stream",
     "text": [
      "name             Mateusz Dorobek\n",
      "swear_percent         0.00534403\n",
      "messeges_len               71599\n",
      "dtype: object\n"
     ]
    }
   ],
   "source": [
    "info = pd.Series()\n",
    "info = info.set_value(\"name\",my_name)\n",
    "info = info.set_value(\"swear_percent\",swear_percent(my_df, swear_list))\n",
    "info = info.set_value(\"messeges_len\",len(my_df))\n",
    "print(info)\n",
    "info.to_csv('extracted_data/info.csv', index=True)"
   ]
  }
 ],
 "metadata": {
  "kernelspec": {
   "display_name": "Python 3",
   "language": "python",
   "name": "python3"
  },
  "language_info": {
   "codemirror_mode": {
    "name": "ipython",
    "version": 3
   },
   "file_extension": ".py",
   "mimetype": "text/x-python",
   "name": "python",
   "nbconvert_exporter": "python",
   "pygments_lexer": "ipython3",
   "version": "3.7.1"
  },
  "toc": {
   "base_numbering": 1,
   "nav_menu": {},
   "number_sections": true,
   "sideBar": true,
   "skip_h1_title": false,
   "title_cell": "Table of Contents",
   "title_sidebar": "Contents",
   "toc_cell": false,
   "toc_position": {},
   "toc_section_display": true,
   "toc_window_display": false
  }
 },
 "nbformat": 4,
 "nbformat_minor": 2
}
