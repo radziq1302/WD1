{
 "cells": [
  {
   "cell_type": "code",
   "execution_count": 2,
   "metadata": {},
   "outputs": [],
   "source": [
    "%matplotlib inline"
   ]
  },
  {
   "cell_type": "code",
   "execution_count": 36,
   "metadata": {},
   "outputs": [],
   "source": [
    "import itertools\n",
    "\n",
    "import numpy as np\n",
    "import pandas as pd\n",
    "from tqdm import tqdm_notebook as tqdm\n",
    "\n",
    "from nltk.corpus import stopwords"
   ]
  },
  {
   "cell_type": "code",
   "execution_count": 29,
   "metadata": {},
   "outputs": [
    {
     "name": "stderr",
     "output_type": "stream",
     "text": [
      "[nltk_data] Downloading package stopwords to /home/bartek/nltk_data...\n",
      "[nltk_data]   Unzipping corpora/stopwords.zip.\n"
     ]
    },
    {
     "data": {
      "text/plain": [
       "True"
      ]
     },
     "execution_count": 29,
     "metadata": {},
     "output_type": "execute_result"
    }
   ],
   "source": [
    "# import nltk\n",
    "# nltk.download('stopwords')"
   ]
  },
  {
   "cell_type": "code",
   "execution_count": 4,
   "metadata": {},
   "outputs": [
    {
     "data": {
      "text/html": [
       "<div>\n",
       "<style scoped>\n",
       "    .dataframe tbody tr th:only-of-type {\n",
       "        vertical-align: middle;\n",
       "    }\n",
       "\n",
       "    .dataframe tbody tr th {\n",
       "        vertical-align: top;\n",
       "    }\n",
       "\n",
       "    .dataframe thead th {\n",
       "        text-align: right;\n",
       "    }\n",
       "</style>\n",
       "<table border=\"1\" class=\"dataframe\">\n",
       "  <thead>\n",
       "    <tr style=\"text-align: right;\">\n",
       "      <th></th>\n",
       "      <th>sender_name</th>\n",
       "      <th>time</th>\n",
       "      <th>content</th>\n",
       "    </tr>\n",
       "  </thead>\n",
       "  <tbody>\n",
       "    <tr>\n",
       "      <th>0</th>\n",
       "      <td>Rafał Kulawiak</td>\n",
       "      <td>2012-03-05 14:21:34</td>\n",
       "      <td>będe chyba musiał sformatować komputer</td>\n",
       "    </tr>\n",
       "    <tr>\n",
       "      <th>1</th>\n",
       "      <td>Rafał Kulawiak</td>\n",
       "      <td>2012-03-05 14:20:54</td>\n",
       "      <td>nie ściągaj tego</td>\n",
       "    </tr>\n",
       "    <tr>\n",
       "      <th>2</th>\n",
       "      <td>Rafał Kulawiak</td>\n",
       "      <td>2012-03-05 14:20:52</td>\n",
       "      <td>sorry samo sie wysłało</td>\n",
       "    </tr>\n",
       "    <tr>\n",
       "      <th>3</th>\n",
       "      <td>Klaudia Sałamacha</td>\n",
       "      <td>2012-03-05 14:20:28</td>\n",
       "      <td>hei . Co to ?;]</td>\n",
       "    </tr>\n",
       "    <tr>\n",
       "      <th>4</th>\n",
       "      <td>Bartek Paszko</td>\n",
       "      <td>2013-10-22 18:48:40</td>\n",
       "      <td>ok narazie ;D</td>\n",
       "    </tr>\n",
       "  </tbody>\n",
       "</table>\n",
       "</div>"
      ],
      "text/plain": [
       "         sender_name                time  \\\n",
       "0     Rafał Kulawiak 2012-03-05 14:21:34   \n",
       "1     Rafał Kulawiak 2012-03-05 14:20:54   \n",
       "2     Rafał Kulawiak 2012-03-05 14:20:52   \n",
       "3  Klaudia Sałamacha 2012-03-05 14:20:28   \n",
       "4      Bartek Paszko 2013-10-22 18:48:40   \n",
       "\n",
       "                                  content  \n",
       "0  będe chyba musiał sformatować komputer  \n",
       "1                        nie ściągaj tego  \n",
       "2                  sorry samo sie wysłało  \n",
       "3                         hei . Co to ?;]  \n",
       "4                           ok narazie ;D  "
      ]
     },
     "execution_count": 4,
     "metadata": {},
     "output_type": "execute_result"
    }
   ],
   "source": [
    "df = pd.read_csv('messages.csv').dropna()\n",
    "df['time'] = df[\"time\"].astype(\"datetime64\")\n",
    "df.head()"
   ]
  },
  {
   "cell_type": "code",
   "execution_count": 5,
   "metadata": {},
   "outputs": [
    {
     "data": {
      "text/plain": [
       "72346"
      ]
     },
     "execution_count": 5,
     "metadata": {},
     "output_type": "execute_result"
    }
   ],
   "source": [
    "df = df[df['time'] > '2018-01-01']\n",
    "my_df = df[df['sender_name'] == 'Bartek Paszko']\n",
    "len(my_df)"
   ]
  },
  {
   "cell_type": "code",
   "execution_count": 6,
   "metadata": {},
   "outputs": [
    {
     "data": {
      "text/html": [
       "<div>\n",
       "<style scoped>\n",
       "    .dataframe tbody tr th:only-of-type {\n",
       "        vertical-align: middle;\n",
       "    }\n",
       "\n",
       "    .dataframe tbody tr th {\n",
       "        vertical-align: top;\n",
       "    }\n",
       "\n",
       "    .dataframe thead th {\n",
       "        text-align: right;\n",
       "    }\n",
       "</style>\n",
       "<table border=\"1\" class=\"dataframe\">\n",
       "  <thead>\n",
       "    <tr style=\"text-align: right;\">\n",
       "      <th></th>\n",
       "      <th>sender_name</th>\n",
       "      <th>time</th>\n",
       "      <th>content</th>\n",
       "    </tr>\n",
       "  </thead>\n",
       "  <tbody>\n",
       "    <tr>\n",
       "      <th>359</th>\n",
       "      <td>Bartek Paszko</td>\n",
       "      <td>2019-03-09 18:07:16</td>\n",
       "      <td>o której mniej więcej?</td>\n",
       "    </tr>\n",
       "    <tr>\n",
       "      <th>360</th>\n",
       "      <td>Bartek Paszko</td>\n",
       "      <td>2019-03-09 18:07:09</td>\n",
       "      <td>ok, thx za info</td>\n",
       "    </tr>\n",
       "    <tr>\n",
       "      <th>362</th>\n",
       "      <td>Bartek Paszko</td>\n",
       "      <td>2019-03-04 21:16:33</td>\n",
       "      <td>Jest awizo</td>\n",
       "    </tr>\n",
       "    <tr>\n",
       "      <th>363</th>\n",
       "      <td>Bartek Paszko</td>\n",
       "      <td>2019-03-02 22:59:40</td>\n",
       "      <td>a dzisiaj rano ostatni raz sprawdzałem i nie b...</td>\n",
       "    </tr>\n",
       "    <tr>\n",
       "      <th>364</th>\n",
       "      <td>Bartek Paszko</td>\n",
       "      <td>2019-03-02 22:59:17</td>\n",
       "      <td>jakiś czas temu przyszedł, ale to Darek wrócił...</td>\n",
       "    </tr>\n",
       "  </tbody>\n",
       "</table>\n",
       "</div>"
      ],
      "text/plain": [
       "       sender_name                time  \\\n",
       "359  Bartek Paszko 2019-03-09 18:07:16   \n",
       "360  Bartek Paszko 2019-03-09 18:07:09   \n",
       "362  Bartek Paszko 2019-03-04 21:16:33   \n",
       "363  Bartek Paszko 2019-03-02 22:59:40   \n",
       "364  Bartek Paszko 2019-03-02 22:59:17   \n",
       "\n",
       "                                               content  \n",
       "359                             o której mniej więcej?  \n",
       "360                                    ok, thx za info  \n",
       "362                                         Jest awizo  \n",
       "363  a dzisiaj rano ostatni raz sprawdzałem i nie b...  \n",
       "364  jakiś czas temu przyszedł, ale to Darek wrócił...  "
      ]
     },
     "execution_count": 6,
     "metadata": {},
     "output_type": "execute_result"
    }
   ],
   "source": [
    "my_df.head()"
   ]
  },
  {
   "cell_type": "code",
   "execution_count": 18,
   "metadata": {},
   "outputs": [],
   "source": [
    "def analyse_xd(df):\n",
    "    pattern = r'([xX]+[dD]+)'\n",
    "    content = df['content']\n",
    "    xds = df['content'].str.extractall(pattern)# .unstack() #.apply(','.join, 1)\n",
    "    xds = xds.reset_index(drop=True)[0]\n",
    "    return xds.value_counts(), xds.apply(lambda x: len(x)).mean()\n",
    "\n",
    "\n",
    "def analyse_xd_via_time(df):\n",
    "    df = df.copy()\n",
    "    pattern = r'([xX]+[dD]+)'\n",
    "    content = df['content']\n",
    "    xds = df['content'].str.extractall(pattern)# .unstack() #.apply(','.join, 1)\n",
    "    \n",
    "    l = []\n",
    "    indices = [i[0] for i in xds.index.values]\n",
    "    for i, _ in tqdm(df.iterrows(), total=len(df)):\n",
    "        if i in indices:\n",
    "            l.append(1)\n",
    "        else:\n",
    "            l.append(0)\n",
    "            \n",
    "    df['xd'] = l\n",
    "    df = df[['time', 'xd']]\n",
    "    return df.groupby(df[\"time\"].dt.hour).sum()"
   ]
  },
  {
   "cell_type": "code",
   "execution_count": 64,
   "metadata": {},
   "outputs": [],
   "source": [
    "from collections import Counter\n",
    "\n",
    "def most_common_words(df, n=-1):\n",
    "    to_delete = ['wysłałeś', 'zdjęcie', '']\n",
    "    stop = stopwords.words('polish')\n",
    "    c = Counter()\n",
    "    \n",
    "    def update_counter(msg):\n",
    "        msg = msg.lower().translate(str.maketrans('', '' , ',.\"\\'?!')).split(' ')\n",
    "        c.update(msg)\n",
    "        \n",
    "    df['content'].apply(update_counter)\n",
    "    \n",
    "    for drop_w in itertools.chain(stop, to_delete):\n",
    "            c.pop(drop_w, None)\n",
    "    \n",
    "    for k in list(c.keys()):\n",
    "            if k.isnumeric():\n",
    "                c.pop(k, None)\n",
    "    \n",
    "    return c if n == -1 else c.most_common(n)\n",
    "    "
   ]
  },
  {
   "cell_type": "code",
   "execution_count": 75,
   "metadata": {},
   "outputs": [],
   "source": [
    "def average_msg_len(df):\n",
    "    lengths = df['content'].apply(lambda x: len(x))\n",
    "    return lengths"
   ]
  },
  {
   "cell_type": "code",
   "execution_count": 18,
   "metadata": {},
   "outputs": [],
   "source": [
    "def msg_per_hour(df):\n",
    "    return df['time'].groupby(df[\"time\"].dt.hour).count()\n",
    "\n",
    "def msg_per_day(df):\n",
    "    mapping = {\n",
    "        0: 'Monday',\n",
    "        1: 'Tuesday',\n",
    "        2: 'Wednesday',\n",
    "        3: 'Thursday',\n",
    "        4: 'Friday',\n",
    "        5: 'Saturday',\n",
    "        6: 'Sunday'\n",
    "    }\n",
    "    weekdays = df['time'].apply(lambda x: mapping[x.weekday()])\n",
    "    return weekdays.value_counts()"
   ]
  },
  {
   "cell_type": "code",
   "execution_count": 60,
   "metadata": {},
   "outputs": [],
   "source": [
    "def swear_percent(df, swear_list):\n",
    "    emotes = ['xd', 'xdd', 'xddd', ':)', ':(', ':c', '<3', ';)', ';(', ';c', ';*', ':*', '^^', ';>', ':>', \n",
    "              ';<', ':<', ':d', ';d', ':p', ';p', ';]', ':]', ';[', ':[', '-.-' '^.^', '*.*',\n",
    "              ':\\\\', ';\\\\', ':/', ';/', ':-)', ';-)', ':-/', ';-/']\n",
    "    \n",
    "    c = most_common_words(df)\n",
    "    for emote in emotes:\n",
    "        c.pop(emote, None)\n",
    "              \n",
    "    swears, total = 0, sum(c.values())\n",
    "    for swear in swear_list:\n",
    "        if swear in c:\n",
    "            swears += c[swear]\n",
    "    return swears / total"
   ]
  },
  {
   "cell_type": "code",
   "execution_count": 65,
   "metadata": {},
   "outputs": [
    {
     "data": {
      "text/plain": [
       "0.025057312386218056"
      ]
     },
     "execution_count": 65,
     "metadata": {},
     "output_type": "execute_result"
    }
   ],
   "source": [
    "with open('wulgaryzmy.txt') as f:\n",
    "    swear_list = f.read().split(' ')\n",
    "\n",
    "swear_percent(my_df, swear_list)"
   ]
  },
  {
   "cell_type": "markdown",
   "metadata": {},
   "source": [
    "#### Rozkład wysyłanych wiadomości godzinowo"
   ]
  },
  {
   "cell_type": "code",
   "execution_count": 12,
   "metadata": {},
   "outputs": [
    {
     "data": {
      "text/plain": [
       "<matplotlib.axes._subplots.AxesSubplot at 0x7f83935a31d0>"
      ]
     },
     "execution_count": 12,
     "metadata": {},
     "output_type": "execute_result"
    },
    {
     "data": {
      "image/png": "[encoded data removed]",
      "text/plain": [
       "<Figure size 432x288 with 1 Axes>"
      ]
     },
     "metadata": {
      "needs_background": "light"
     },
     "output_type": "display_data"
    }
   ],
   "source": [
    "hist_hour = msg_per_hour(my_df)\n",
    "hist_hour.plot()"
   ]
  },
  {
   "cell_type": "markdown",
   "metadata": {},
   "source": [
    "#### Rozkład wysyłanych wiadomości dziennie"
   ]
  },
  {
   "cell_type": "code",
   "execution_count": 19,
   "metadata": {},
   "outputs": [
    {
     "data": {
      "text/plain": [
       "<matplotlib.axes._subplots.AxesSubplot at 0x7f8390d62eb8>"
      ]
     },
     "execution_count": 19,
     "metadata": {},
     "output_type": "execute_result"
    },
    {
     "data": {
      "image/png": "[encoded data removed]",
      "text/plain": [
       "<Figure size 432x288 with 1 Axes>"
      ]
     },
     "metadata": {
      "needs_background": "light"
     },
     "output_type": "display_data"
    }
   ],
   "source": [
    "weekdays = msg_per_day(my_df)\n",
    "weekdays.plot(kind='bar')"
   ]
  },
  {
   "cell_type": "markdown",
   "metadata": {},
   "source": [
    "#### Najczęstsze rodzaje wysyłanego xD"
   ]
  },
  {
   "cell_type": "code",
   "execution_count": 27,
   "metadata": {},
   "outputs": [
    {
     "data": {
      "text/plain": [
       "<matplotlib.axes._subplots.AxesSubplot at 0x7f838f3a4898>"
      ]
     },
     "execution_count": 27,
     "metadata": {},
     "output_type": "execute_result"
    },
    {
     "data": {
      "image/png": "[encoded data removed]",
      "text/plain": [
       "<Figure size 432x288 with 1 Axes>"
      ]
     },
     "metadata": {
      "needs_background": "light"
     },
     "output_type": "display_data"
    }
   ],
   "source": [
    "xds_counts, mean_xd_len = analyse_xd(my_df)\n",
    "xds_counts[:5].plot(kind='bar')"
   ]
  },
  {
   "cell_type": "markdown",
   "metadata": {},
   "source": [
    "#### ilość XD per godzina"
   ]
  },
  {
   "cell_type": "code",
   "execution_count": 19,
   "metadata": {},
   "outputs": [
    {
     "data": {
      "application/vnd.jupyter.widget-view+json": {
       "model_id": "05f388e3a4e04cf0bade784ac865f8d8",
       "version_major": 2,
       "version_minor": 0
      },
      "text/plain": [
       "HBox(children=(IntProgress(value=0, max=72346), HTML(value='')))"
      ]
     },
     "metadata": {},
     "output_type": "display_data"
    },
    {
     "data": {
      "text/plain": [
       "<matplotlib.axes._subplots.AxesSubplot at 0x7f93bac03978>"
      ]
     },
     "execution_count": 19,
     "metadata": {},
     "output_type": "execute_result"
    },
    {
     "data": {
      "image/png": "[encoded data removed]",
      "text/plain": [
       "<Figure size 432x288 with 1 Axes>"
      ]
     },
     "metadata": {
      "needs_background": "light"
     },
     "output_type": "display_data"
    }
   ],
   "source": [
    "xd_time = analyse_xd_via_time(my_df)\n",
    "xd_time.plot()"
   ]
  },
  {
   "cell_type": "markdown",
   "metadata": {},
   "source": [
    "#### Najczęściej występujące słowa"
   ]
  },
  {
   "cell_type": "code",
   "execution_count": 66,
   "metadata": {},
   "outputs": [
    {
     "name": "stdout",
     "output_type": "stream",
     "text": [
      "xd\t\t7105\n",
      ":d\t\t2093\n",
      ":c\t\t1623\n",
      "lel\t\t1622\n",
      ";*\t\t1571\n",
      "dawit\t\t1197\n",
      "kurwa\t\t1010\n",
      "jutro\t\t911\n",
      "masz\t\t672\n",
      "pewnie\t\t626\n",
      "dawaj\t\t619\n",
      "ech\t\t611\n",
      "chce\t\t570\n",
      "wiem\t\t565\n",
      "zaraz\t\t544\n",
      "chyba\t\t533\n",
      "dobra\t\t503\n",
      "nom\t\t492\n",
      "dejw\t\t467\n",
      "idę\t\t457\n",
      "bym\t\t451\n",
      "pracy\t\t417\n",
      "<3\t\t414\n",
      "spoko\t\t391\n",
      "czego\t\t360\n",
      ":)\t\t359\n",
      "potem\t\t350\n",
      "chuj\t\t322\n",
      "k\t\t314\n",
      "będziesz\t\t292\n",
      "możesz\t\t270\n",
      "trochę\t\t269\n",
      "wat\t\t269\n",
      "muszę\t\t261\n",
      "jesteś\t\t253\n",
      "pora\t\t252\n",
      ":(\t\t249\n",
      "chcesz\t\t241\n",
      "ez\t\t238\n",
      "spać\t\t235\n",
      "jakieś\t\t234\n",
      "ok\t\t230\n",
      "polecam\t\t223\n",
      "musisz\t\t218\n",
      "xddd\t\t218\n",
      "wgl\t\t214\n",
      "domu\t\t212\n",
      "mogę\t\t210\n",
      "dopiero\t\t209\n",
      "only\t\t209\n"
     ]
    }
   ],
   "source": [
    "mcw = most_common_words(my_df, n=50)\n",
    "for w, c in mcw:\n",
    "    print(f'{w}\\t\\t{c}')"
   ]
  },
  {
   "cell_type": "markdown",
   "metadata": {},
   "source": [
    "#### Średnia długość wiadomości (w znakach) - wyrzucone outliery"
   ]
  },
  {
   "cell_type": "code",
   "execution_count": 91,
   "metadata": {},
   "outputs": [
    {
     "data": {
      "text/plain": [
       "<matplotlib.axes._subplots.AxesSubplot at 0x7f93a49aa9e8>"
      ]
     },
     "execution_count": 91,
     "metadata": {},
     "output_type": "execute_result"
    },
    {
     "data": {
      "image/png": "[encoded data removed]",
      "text/plain": [
       "<Figure size 432x288 with 1 Axes>"
      ]
     },
     "metadata": {
      "needs_background": "light"
     },
     "output_type": "display_data"
    }
   ],
   "source": [
    "lengths = average_msg_len(my_df)\n",
    "lengths[~((lengths-lengths.mean()).abs() > 3*lengths.std())].hist(bins=20)"
   ]
  },
  {
   "cell_type": "code",
   "execution_count": null,
   "metadata": {},
   "outputs": [],
   "source": []
  }
 ],
 "metadata": {
  "kernelspec": {
   "display_name": "Python 3",
   "language": "python",
   "name": "python3"
  },
  "language_info": {
   "codemirror_mode": {
    "name": "ipython",
    "version": 3
   },
   "file_extension": ".py",
   "mimetype": "text/x-python",
   "name": "python",
   "nbconvert_exporter": "python",
   "pygments_lexer": "ipython3",
   "version": "3.7.2"
  }
 },
 "nbformat": 4,
 "nbformat_minor": 2
}
